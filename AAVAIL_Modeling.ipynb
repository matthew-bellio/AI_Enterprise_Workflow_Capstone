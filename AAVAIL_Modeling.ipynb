{
 "cells": [
  {
   "cell_type": "markdown",
   "metadata": {},
   "source": [
    "### 1. State the different modeling approaches that you will compare to address the business opportunity."
   ]
  },
  {
   "cell_type": "markdown",
   "metadata": {},
   "source": [
    "This notebook will explore both supervised learning and time series approaches for this modeling exercise.\n",
    "\n",
    "From a supervised learning perspective we will utilize Random Forest and Grandient Boosted Regressor.\n",
    "\n",
    "From the time series family we will utilize Facebook's Prophet model. \n",
    "\n",
    "Different pipelines will also be experimented with as well as the hyperparameters for each model"
   ]
  },
  {
   "cell_type": "code",
   "execution_count": 1,
   "metadata": {},
   "outputs": [],
   "source": [
    "import os\n",
    "import time\n",
    "import numpy as np\n",
    "import pandas as pd\n",
    "\n",
    "from solution_guidance.logger import *\n",
    "\n",
    "#from solution_guidance.model import model_load\n",
    "#from solution_guidance.model import model_predict\n",
    "\n",
    "from sklearn.model_selection import train_test_split, GridSearchCV\n",
    "from sklearn.pipeline import Pipeline\n",
    "from sklearn.ensemble import RandomForestRegressor, GradientBoostingRegressor\n",
    "from sklearn.tree import DecisionTreeRegressor\n",
    "from sklearn.preprocessing import StandardScaler\n",
    "\n",
    "from sklearn.metrics import mean_absolute_error, mean_squared_error, r2_score\n",
    "\n",
    "from solution_guidance.cslib import fetch_ts, engineer_features\n",
    "\n",
    "from fbprophet import Prophet\n",
    "\n",
    "import matplotlib.pyplot as plt\n",
    "\n",
    "plt.style.use('seaborn')\n",
    "%matplotlib inline"
   ]
  },
  {
   "cell_type": "code",
   "execution_count": 52,
   "metadata": {},
   "outputs": [],
   "source": [
    "data_dir = os.path.join(\"data\",\"cs-train\")"
   ]
  },
  {
   "cell_type": "code",
   "execution_count": 2,
   "metadata": {},
   "outputs": [
    {
     "name": "stdout",
     "output_type": "stream",
     "text": [
      "... loading ts data from files\n"
     ]
    }
   ],
   "source": [
    "ts_all = fetch_ts(data_dir,clean=False)"
   ]
  },
  {
   "cell_type": "code",
   "execution_count": 27,
   "metadata": {},
   "outputs": [
    {
     "data": {
      "text/plain": [
       "{'all':            date  purchases  unique_invoices  unique_streams  total_views  \\\n",
       " 0    2017-11-01          0                0               0            0   \n",
       " 1    2017-11-02          0                0               0            0   \n",
       " 2    2017-11-03          0                0               0            0   \n",
       " 3    2017-11-04          0                0               0            0   \n",
       " 4    2017-11-05          0                0               0            0   \n",
       " ..          ...        ...              ...             ...          ...   \n",
       " 602  2019-06-26       1358               67             999         6420   \n",
       " 603  2019-06-27       1620               80             944         9435   \n",
       " 604  2019-06-28       1027               70             607         5539   \n",
       " 605  2019-06-29          0                0               0            0   \n",
       " 606  2019-06-30        602               27             423         2534   \n",
       " \n",
       "     year_month  revenue  \n",
       " 0      2017-11     0.00  \n",
       " 1      2017-11     0.00  \n",
       " 2      2017-11     0.00  \n",
       " 3      2017-11     0.00  \n",
       " 4      2017-11     0.00  \n",
       " ..         ...      ...  \n",
       " 602    2019-06  4903.17  \n",
       " 603    2019-06  5499.38  \n",
       " 604    2019-06  3570.60  \n",
       " 605    2019-06     0.00  \n",
       " 606    2019-06  1793.98  \n",
       " \n",
       " [607 rows x 7 columns],\n",
       " 'eire':            date  purchases  unique_invoices  unique_streams  total_views  \\\n",
       " 0    2017-11-01          0                0               0            0   \n",
       " 1    2017-11-02          0                0               0            0   \n",
       " 2    2017-11-03          0                0               0            0   \n",
       " 3    2017-11-04          0                0               0            0   \n",
       " 4    2017-11-05          0                0               0            0   \n",
       " ..          ...        ...              ...             ...          ...   \n",
       " 602  2019-06-26         80                3              78          709   \n",
       " 603  2019-06-27         30                1              30          237   \n",
       " 604  2019-06-28         55                3              54          440   \n",
       " 605  2019-06-29          0                0               0            0   \n",
       " 606  2019-06-30          0                0               0            0   \n",
       " \n",
       "     year_month  revenue  \n",
       " 0      2017-11     0.00  \n",
       " 1      2017-11     0.00  \n",
       " 2      2017-11     0.00  \n",
       " 3      2017-11     0.00  \n",
       " 4      2017-11     0.00  \n",
       " ..         ...      ...  \n",
       " 602    2019-06   253.67  \n",
       " 603    2019-06    92.16  \n",
       " 604    2019-06   295.21  \n",
       " 605    2019-06     0.00  \n",
       " 606    2019-06     0.00  \n",
       " \n",
       " [607 rows x 7 columns],\n",
       " 'france':            date  purchases  unique_invoices  unique_streams  total_views  \\\n",
       " 0    2017-11-01          0                0               0            0   \n",
       " 1    2017-11-02          0                0               0            0   \n",
       " 2    2017-11-03          0                0               0            0   \n",
       " 3    2017-11-04          0                0               0            0   \n",
       " 4    2017-11-05          0                0               0            0   \n",
       " ..          ...        ...              ...             ...          ...   \n",
       " 602  2019-06-26          0                0               0            0   \n",
       " 603  2019-06-27          1                1               1            4   \n",
       " 604  2019-06-28         26                2              25          252   \n",
       " 605  2019-06-29          0                0               0            0   \n",
       " 606  2019-06-30          0                0               0            0   \n",
       " \n",
       "     year_month  revenue  \n",
       " 0      2017-11     0.00  \n",
       " 1      2017-11     0.00  \n",
       " 2      2017-11     0.00  \n",
       " 3      2017-11     0.00  \n",
       " 4      2017-11     0.00  \n",
       " ..         ...      ...  \n",
       " 602    2019-06     0.00  \n",
       " 603    2019-06     1.25  \n",
       " 604    2019-06    79.75  \n",
       " 605    2019-06     0.00  \n",
       " 606    2019-06     0.00  \n",
       " \n",
       " [607 rows x 7 columns],\n",
       " 'germany':            date  purchases  unique_invoices  unique_streams  total_views  \\\n",
       " 0    2017-11-01          0                0               0            0   \n",
       " 1    2017-11-02          0                0               0            0   \n",
       " 2    2017-11-03          0                0               0            0   \n",
       " 3    2017-11-04          0                0               0            0   \n",
       " 4    2017-11-05          0                0               0            0   \n",
       " ..          ...        ...              ...             ...          ...   \n",
       " 602  2019-06-26          0                0               0            0   \n",
       " 603  2019-06-27         62                3              59          614   \n",
       " 604  2019-06-28         10                2              10           52   \n",
       " 605  2019-06-29          0                0               0            0   \n",
       " 606  2019-06-30          0                0               0            0   \n",
       " \n",
       "     year_month  revenue  \n",
       " 0      2017-11     0.00  \n",
       " 1      2017-11     0.00  \n",
       " 2      2017-11     0.00  \n",
       " 3      2017-11     0.00  \n",
       " 4      2017-11     0.00  \n",
       " ..         ...      ...  \n",
       " 602    2019-06     0.00  \n",
       " 603    2019-06   159.78  \n",
       " 604    2019-06    51.89  \n",
       " 605    2019-06     0.00  \n",
       " 606    2019-06     0.00  \n",
       " \n",
       " [607 rows x 7 columns],\n",
       " 'hong_kong':            date  purchases  unique_invoices  unique_streams  total_views  \\\n",
       " 0    2018-04-01          0                0               0            0   \n",
       " 1    2018-04-02          0                0               0            0   \n",
       " 2    2018-04-03          0                0               0            0   \n",
       " 3    2018-04-04          0                0               0            0   \n",
       " 4    2018-04-05          0                0               0            0   \n",
       " ..          ...        ...              ...             ...          ...   \n",
       " 421  2019-05-27          0                0               0            0   \n",
       " 422  2019-05-28          0                0               0            0   \n",
       " 423  2019-05-29          0                0               0            0   \n",
       " 424  2019-05-30          0                0               0            0   \n",
       " 425  2019-05-31          0                0               0            0   \n",
       " \n",
       "     year_month  revenue  \n",
       " 0      2018-04      0.0  \n",
       " 1      2018-04      0.0  \n",
       " 2      2018-04      0.0  \n",
       " 3      2018-04      0.0  \n",
       " 4      2018-04      0.0  \n",
       " ..         ...      ...  \n",
       " 421    2019-05      0.0  \n",
       " 422    2019-05      0.0  \n",
       " 423    2019-05      0.0  \n",
       " 424    2019-05      0.0  \n",
       " 425    2019-05      0.0  \n",
       " \n",
       " [426 rows x 7 columns],\n",
       " 'netherlands':            date  purchases  unique_invoices  unique_streams  total_views  \\\n",
       " 0    2017-11-01          0                0               0            0   \n",
       " 1    2017-11-02          0                0               0            0   \n",
       " 2    2017-11-03          0                0               0            0   \n",
       " 3    2017-11-04          0                0               0            0   \n",
       " 4    2017-11-05          0                0               0            0   \n",
       " ..          ...        ...              ...             ...          ...   \n",
       " 602  2019-06-26          0                0               0            0   \n",
       " 603  2019-06-27          0                0               0            0   \n",
       " 604  2019-06-28          0                0               0            0   \n",
       " 605  2019-06-29          0                0               0            0   \n",
       " 606  2019-06-30          0                0               0            0   \n",
       " \n",
       "     year_month  revenue  \n",
       " 0      2017-11      0.0  \n",
       " 1      2017-11      0.0  \n",
       " 2      2017-11      0.0  \n",
       " 3      2017-11      0.0  \n",
       " 4      2017-11      0.0  \n",
       " ..         ...      ...  \n",
       " 602    2019-06      0.0  \n",
       " 603    2019-06      0.0  \n",
       " 604    2019-06      0.0  \n",
       " 605    2019-06      0.0  \n",
       " 606    2019-06      0.0  \n",
       " \n",
       " [607 rows x 7 columns],\n",
       " 'norway':            date  purchases  unique_invoices  unique_streams  total_views  \\\n",
       " 0    2017-12-01          0                0               0            0   \n",
       " 1    2017-12-02          0                0               0            0   \n",
       " 2    2017-12-03          0                0               0            0   \n",
       " 3    2017-12-04         21                1              21          175   \n",
       " 4    2017-12-05          0                0               0            0   \n",
       " ..          ...        ...              ...             ...          ...   \n",
       " 572  2019-06-26          0                0               0            0   \n",
       " 573  2019-06-27          0                0               0            0   \n",
       " 574  2019-06-28          0                0               0            0   \n",
       " 575  2019-06-29          0                0               0            0   \n",
       " 576  2019-06-30          0                0               0            0   \n",
       " \n",
       "     year_month  revenue  \n",
       " 0      2017-12     0.00  \n",
       " 1      2017-12     0.00  \n",
       " 2      2017-12     0.00  \n",
       " 3      2017-12   123.28  \n",
       " 4      2017-12     0.00  \n",
       " ..         ...      ...  \n",
       " 572    2019-06     0.00  \n",
       " 573    2019-06     0.00  \n",
       " 574    2019-06     0.00  \n",
       " 575    2019-06     0.00  \n",
       " 576    2019-06     0.00  \n",
       " \n",
       " [577 rows x 7 columns],\n",
       " 'portugal':            date  purchases  unique_invoices  unique_streams  total_views  \\\n",
       " 0    2017-11-01          0                0               0            0   \n",
       " 1    2017-11-02          0                0               0            0   \n",
       " 2    2017-11-03          0                0               0            0   \n",
       " 3    2017-11-04          0                0               0            0   \n",
       " 4    2017-11-05          0                0               0            0   \n",
       " ..          ...        ...              ...             ...          ...   \n",
       " 602  2019-06-26          0                0               0            0   \n",
       " 603  2019-06-27          0                0               0            0   \n",
       " 604  2019-06-28          0                0               0            0   \n",
       " 605  2019-06-29          0                0               0            0   \n",
       " 606  2019-06-30          0                0               0            0   \n",
       " \n",
       "     year_month  revenue  \n",
       " 0      2017-11      0.0  \n",
       " 1      2017-11      0.0  \n",
       " 2      2017-11      0.0  \n",
       " 3      2017-11      0.0  \n",
       " 4      2017-11      0.0  \n",
       " ..         ...      ...  \n",
       " 602    2019-06      0.0  \n",
       " 603    2019-06      0.0  \n",
       " 604    2019-06      0.0  \n",
       " 605    2019-06      0.0  \n",
       " 606    2019-06      0.0  \n",
       " \n",
       " [607 rows x 7 columns],\n",
       " 'singapore':            date  purchases  unique_invoices  unique_streams  total_views  \\\n",
       " 0    2018-04-01          0                0               0            0   \n",
       " 1    2018-04-02          0                0               0            0   \n",
       " 2    2018-04-03          0                0               0            0   \n",
       " 3    2018-04-04          0                0               0            0   \n",
       " 4    2018-04-05          0                0               0            0   \n",
       " ..          ...        ...              ...             ...          ...   \n",
       " 451  2019-06-26          0                0               0            0   \n",
       " 452  2019-06-27          0                0               0            0   \n",
       " 453  2019-06-28          0                0               0            0   \n",
       " 454  2019-06-29          0                0               0            0   \n",
       " 455  2019-06-30          0                0               0            0   \n",
       " \n",
       "     year_month  revenue  \n",
       " 0      2018-04      0.0  \n",
       " 1      2018-04      0.0  \n",
       " 2      2018-04      0.0  \n",
       " 3      2018-04      0.0  \n",
       " 4      2018-04      0.0  \n",
       " ..         ...      ...  \n",
       " 451    2019-06      0.0  \n",
       " 452    2019-06      0.0  \n",
       " 453    2019-06      0.0  \n",
       " 454    2019-06      0.0  \n",
       " 455    2019-06      0.0  \n",
       " \n",
       " [456 rows x 7 columns],\n",
       " 'spain':            date  purchases  unique_invoices  unique_streams  total_views  \\\n",
       " 0    2017-11-01          0                0               0            0   \n",
       " 1    2017-11-02          0                0               0            0   \n",
       " 2    2017-11-03          0                0               0            0   \n",
       " 3    2017-11-04          0                0               0            0   \n",
       " 4    2017-11-05          0                0               0            0   \n",
       " ..          ...        ...              ...             ...          ...   \n",
       " 602  2019-06-26          0                0               0            0   \n",
       " 603  2019-06-27          0                0               0            0   \n",
       " 604  2019-06-28          0                0               0            0   \n",
       " 605  2019-06-29          0                0               0            0   \n",
       " 606  2019-06-30          0                0               0            0   \n",
       " \n",
       "     year_month  revenue  \n",
       " 0      2017-11      0.0  \n",
       " 1      2017-11      0.0  \n",
       " 2      2017-11      0.0  \n",
       " 3      2017-11      0.0  \n",
       " 4      2017-11      0.0  \n",
       " ..         ...      ...  \n",
       " 602    2019-06      0.0  \n",
       " 603    2019-06      0.0  \n",
       " 604    2019-06      0.0  \n",
       " 605    2019-06      0.0  \n",
       " 606    2019-06      0.0  \n",
       " \n",
       " [607 rows x 7 columns],\n",
       " 'united_kingdom':            date  purchases  unique_invoices  unique_streams  total_views  \\\n",
       " 0    2017-11-01          0                0               0            0   \n",
       " 1    2017-11-02          0                0               0            0   \n",
       " 2    2017-11-03          0                0               0            0   \n",
       " 3    2017-11-04          0                0               0            0   \n",
       " 4    2017-11-05          0                0               0            0   \n",
       " ..          ...        ...              ...             ...          ...   \n",
       " 602  2019-06-26       1274               62             965         5702   \n",
       " 603  2019-06-27       1487               72             897         8230   \n",
       " 604  2019-06-28        923               62             565         4674   \n",
       " 605  2019-06-29          0                0               0            0   \n",
       " 606  2019-06-30        602               27             423         2534   \n",
       " \n",
       "     year_month  revenue  \n",
       " 0      2017-11     0.00  \n",
       " 1      2017-11     0.00  \n",
       " 2      2017-11     0.00  \n",
       " 3      2017-11     0.00  \n",
       " 4      2017-11     0.00  \n",
       " ..         ...      ...  \n",
       " 602    2019-06  4611.00  \n",
       " 603    2019-06  5128.02  \n",
       " 604    2019-06  3096.20  \n",
       " 605    2019-06     0.00  \n",
       " 606    2019-06  1793.98  \n",
       " \n",
       " [607 rows x 7 columns]}"
      ]
     },
     "execution_count": 27,
     "metadata": {},
     "output_type": "execute_result"
    }
   ],
   "source": [
    "ts_all"
   ]
  },
  {
   "cell_type": "code",
   "execution_count": 3,
   "metadata": {},
   "outputs": [],
   "source": [
    "X,y,dates = engineer_features(ts_all['all'])\n",
    "        \n",
    "## Perform a train-test split\n",
    "X_train, X_test, y_train, y_test = train_test_split(X, y, test_size=0.30, shuffle=True, random_state=42)"
   ]
  },
  {
   "cell_type": "code",
   "execution_count": 37,
   "metadata": {},
   "outputs": [
    {
     "data": {
      "text/plain": [
       "(384, 7)"
      ]
     },
     "execution_count": 37,
     "metadata": {},
     "output_type": "execute_result"
    }
   ],
   "source": [
    "X_train.shape"
   ]
  },
  {
   "cell_type": "code",
   "execution_count": 38,
   "metadata": {},
   "outputs": [
    {
     "data": {
      "text/plain": [
       "(165, 7)"
      ]
     },
     "execution_count": 38,
     "metadata": {},
     "output_type": "execute_result"
    }
   ],
   "source": [
    "X_test.shape"
   ]
  },
  {
   "cell_type": "code",
   "execution_count": 47,
   "metadata": {},
   "outputs": [
    {
     "data": {
      "text/html": [
       "<div>\n",
       "<style scoped>\n",
       "    .dataframe tbody tr th:only-of-type {\n",
       "        vertical-align: middle;\n",
       "    }\n",
       "\n",
       "    .dataframe tbody tr th {\n",
       "        vertical-align: top;\n",
       "    }\n",
       "\n",
       "    .dataframe thead th {\n",
       "        text-align: right;\n",
       "    }\n",
       "</style>\n",
       "<table border=\"1\" class=\"dataframe\">\n",
       "  <thead>\n",
       "    <tr style=\"text-align: right;\">\n",
       "      <th></th>\n",
       "      <th>previous_7</th>\n",
       "      <th>previous_14</th>\n",
       "      <th>previous_28</th>\n",
       "      <th>previous_70</th>\n",
       "      <th>previous_year</th>\n",
       "      <th>recent_invoices</th>\n",
       "      <th>recent_views</th>\n",
       "    </tr>\n",
       "  </thead>\n",
       "  <tbody>\n",
       "    <tr>\n",
       "      <th>42</th>\n",
       "      <td>29628.02</td>\n",
       "      <td>34655.840</td>\n",
       "      <td>89637.420</td>\n",
       "      <td>232963.600</td>\n",
       "      <td>0.000</td>\n",
       "      <td>45.533333</td>\n",
       "      <td>3999.966667</td>\n",
       "    </tr>\n",
       "    <tr>\n",
       "      <th>349</th>\n",
       "      <td>72928.18</td>\n",
       "      <td>141350.501</td>\n",
       "      <td>210645.941</td>\n",
       "      <td>618511.262</td>\n",
       "      <td>143326.180</td>\n",
       "      <td>110.000000</td>\n",
       "      <td>11270.733333</td>\n",
       "    </tr>\n",
       "    <tr>\n",
       "      <th>522</th>\n",
       "      <td>46989.96</td>\n",
       "      <td>64491.060</td>\n",
       "      <td>127182.371</td>\n",
       "      <td>358086.461</td>\n",
       "      <td>141310.660</td>\n",
       "      <td>57.166667</td>\n",
       "      <td>5384.100000</td>\n",
       "    </tr>\n",
       "    <tr>\n",
       "      <th>468</th>\n",
       "      <td>29560.96</td>\n",
       "      <td>62805.510</td>\n",
       "      <td>137094.210</td>\n",
       "      <td>363007.080</td>\n",
       "      <td>235257.102</td>\n",
       "      <td>52.733333</td>\n",
       "      <td>5632.133333</td>\n",
       "    </tr>\n",
       "    <tr>\n",
       "      <th>398</th>\n",
       "      <td>0.00</td>\n",
       "      <td>18257.960</td>\n",
       "      <td>313907.660</td>\n",
       "      <td>772709.232</td>\n",
       "      <td>177709.003</td>\n",
       "      <td>53.566667</td>\n",
       "      <td>7325.966667</td>\n",
       "    </tr>\n",
       "  </tbody>\n",
       "</table>\n",
       "</div>"
      ],
      "text/plain": [
       "     previous_7  previous_14  previous_28  previous_70  previous_year  \\\n",
       "42     29628.02    34655.840    89637.420   232963.600          0.000   \n",
       "349    72928.18   141350.501   210645.941   618511.262     143326.180   \n",
       "522    46989.96    64491.060   127182.371   358086.461     141310.660   \n",
       "468    29560.96    62805.510   137094.210   363007.080     235257.102   \n",
       "398        0.00    18257.960   313907.660   772709.232     177709.003   \n",
       "\n",
       "     recent_invoices  recent_views  \n",
       "42         45.533333   3999.966667  \n",
       "349       110.000000  11270.733333  \n",
       "522        57.166667   5384.100000  \n",
       "468        52.733333   5632.133333  \n",
       "398        53.566667   7325.966667  "
      ]
     },
     "execution_count": 47,
     "metadata": {},
     "output_type": "execute_result"
    }
   ],
   "source": [
    "X_train.head()"
   ]
  },
  {
   "cell_type": "markdown",
   "metadata": {},
   "source": [
    "We notice that each of the features being fed into the model are numeric and have different scales so we will limit ourself to the StandardScaler\n",
    "\n",
    "Further exploration could include things like log or sqrt transforms as well"
   ]
  },
  {
   "cell_type": "markdown",
   "metadata": {},
   "source": [
    "### 2. Iterate on your suite of possible models by modifying data transformations, pipeline architectures, hyperparameters and other relevant factors."
   ]
  },
  {
   "cell_type": "markdown",
   "metadata": {},
   "source": [
    "Multiple pipelines were tested via GridSearchCV and adding / subtracting features from the parameter grids was done but only the final grids are shown"
   ]
  },
  {
   "cell_type": "markdown",
   "metadata": {},
   "source": [
    "Random Forest"
   ]
  },
  {
   "cell_type": "code",
   "execution_count": 30,
   "metadata": {},
   "outputs": [
    {
     "name": "stdout",
     "output_type": "stream",
     "text": [
      "train time =  00:00:26\n",
      "mae = 12474\n",
      "mse = 292171520\n",
      "r2_score = 0.953\n",
      "best params = {'rf__criterion': 'mse', 'rf__max_depth': 10, 'rf__n_estimators': 100}\n"
     ]
    }
   ],
   "source": [
    "param_grid_rf = {\n",
    "    'rf__criterion': ['mse','mae'],\n",
    "    'rf__n_estimators': [10,15,20,25,50,100],\n",
    "    'rf__max_depth': [None, 5, 7, 10, 20]\n",
    "    }\n",
    "\n",
    "time_start = time.time()\n",
    "pipe_rf = Pipeline(steps=[('scaler', StandardScaler()), ('rf', RandomForestRegressor())])\n",
    "\n",
    "grid = GridSearchCV(pipe_rf, param_grid=param_grid_rf, cv=5, n_jobs=-1)\n",
    "grid.fit(X_train, y_train)\n",
    "y_pred = grid.predict(X_test)\n",
    "\n",
    "rf_mae =  mean_absolute_error(y_test, y_pred)\n",
    "rf_mse =  mean_squared_error(y_test, y_pred)\n",
    "rf_r2_score = r2_score(y_test, y_pred)\n",
    "\n",
    "print(\"train time = \", time.strftime('%H:%M:%S', time.gmtime(time.time()-time_start)))\n",
    "print(\"mae = {:.0f}\".format(rf_mae))\n",
    "print(\"mse = {:.0f}\".format(rf_mse))\n",
    "print(\"r2_score = {:.3f}\".format(rf_r2_score))\n",
    "print(\"best params =\", grid.best_params_)"
   ]
  },
  {
   "cell_type": "markdown",
   "metadata": {},
   "source": [
    "We know that increased features lead to an inflated R^2 score. So we will manually calculate the Adjusted R^2 below:"
   ]
  },
  {
   "cell_type": "code",
   "execution_count": 44,
   "metadata": {},
   "outputs": [
    {
     "data": {
      "text/plain": [
       "0.9522637307058769"
      ]
     },
     "execution_count": 44,
     "metadata": {},
     "output_type": "execute_result"
    }
   ],
   "source": [
    "adj_r2 = 1 - (((X_train.shape[0] - 1)/(X_train.shape[0]-X_train.shape[1]-1))*(1-rf_r2_score))\n",
    "adj_r2"
   ]
  },
  {
   "cell_type": "markdown",
   "metadata": {},
   "source": [
    "Gradient Boosted Regressor"
   ]
  },
  {
   "cell_type": "code",
   "execution_count": 32,
   "metadata": {},
   "outputs": [
    {
     "name": "stderr",
     "output_type": "stream",
     "text": [
      "C:\\Users\\MATTBELLIO\\anaconda3\\lib\\site-packages\\sklearn\\model_selection\\_search.py:849: FutureWarning: The parameter 'iid' is deprecated in 0.22 and will be removed in 0.24.\n",
      "  \"removed in 0.24.\", FutureWarning\n"
     ]
    },
    {
     "name": "stdout",
     "output_type": "stream",
     "text": [
      "train time =  00:14:22\n",
      "mae = 13969\n",
      "mse = 420685779\n",
      "r2_score = 0.933\n",
      "best params = {'gb__criterion': 'mae', 'gb__learning_rate': 0.3, 'gb__loss': 'ls', 'gb__max_depth': 7, 'gb__n_estimators': 20}\n"
     ]
    }
   ],
   "source": [
    "param_grid_gb = {\n",
    "    'gb__criterion': ['mse','mae'],\n",
    "    'gb__learning_rate': [0.0001, 0.001, 0.01, 0.1, 0.2, 0.3],\n",
    "    'gb__n_estimators': [10,15,20,25,50,100],\n",
    "    'gb__loss': ['ls', 'lad', 'huber', 'quantile'],\n",
    "    'gb__max_depth': [3, 5, 7, 10]\n",
    "    }\n",
    "\n",
    "time_start = time.time()\n",
    "pipe_gb = Pipeline(steps=[('scaler', StandardScaler()), ('gb', GradientBoostingRegressor())])\n",
    "\n",
    "grid = GridSearchCV(pipe_gb, param_grid=param_grid_gb, cv=5, n_jobs=-1)\n",
    "grid.fit(X_train, y_train)\n",
    "y_pred = grid.predict(X_test)\n",
    "\n",
    "gb_mae =  mean_absolute_error(y_test, y_pred)\n",
    "gb_mse =  mean_squared_error(y_test, y_pred)\n",
    "gb_r2_score = r2_score(y_test, y_pred)\n",
    "\n",
    "print(\"train time = \", time.strftime('%H:%M:%S', time.gmtime(time.time()-time_start)))\n",
    "print(\"mae = {:.0f}\".format(gb_mae))\n",
    "print(\"mse = {:.0f}\".format(gb_mse))\n",
    "print(\"r2_score = {:.3f}\".format(gb_r2_score))\n",
    "print(\"best params =\", grid.best_params_)"
   ]
  },
  {
   "cell_type": "code",
   "execution_count": 45,
   "metadata": {},
   "outputs": [
    {
     "data": {
      "text/plain": [
       "0.9312665054199731"
      ]
     },
     "execution_count": 45,
     "metadata": {},
     "output_type": "execute_result"
    }
   ],
   "source": [
    "adj_r2 = 1 - (((X_train.shape[0] - 1)/(X_train.shape[0]-X_train.shape[1]-1))*(1-gb_r2_score))\n",
    "adj_r2"
   ]
  },
  {
   "cell_type": "markdown",
   "metadata": {},
   "source": [
    "Facebook's Prophet"
   ]
  },
  {
   "cell_type": "code",
   "execution_count": 19,
   "metadata": {},
   "outputs": [],
   "source": [
    "df_pro = pd.DataFrame({'ds':dates, 'y':y})"
   ]
  },
  {
   "cell_type": "code",
   "execution_count": 34,
   "metadata": {},
   "outputs": [],
   "source": [
    "model1=Prophet(changepoint_prior_scale=0.5, weekly_seasonality=True)"
   ]
  },
  {
   "cell_type": "code",
   "execution_count": 35,
   "metadata": {},
   "outputs": [
    {
     "name": "stderr",
     "output_type": "stream",
     "text": [
      "INFO:fbprophet:Disabling yearly seasonality. Run prophet with yearly_seasonality=True to override this.\n",
      "INFO:fbprophet:Disabling daily seasonality. Run prophet with daily_seasonality=True to override this.\n"
     ]
    },
    {
     "data": {
      "text/plain": [
       "<fbprophet.forecaster.Prophet at 0x21e15f265c0>"
      ]
     },
     "execution_count": 35,
     "metadata": {},
     "output_type": "execute_result"
    }
   ],
   "source": [
    "model1.fit(df_pro)"
   ]
  },
  {
   "cell_type": "code",
   "execution_count": 41,
   "metadata": {},
   "outputs": [],
   "source": [
    "future = model1.make_future_dataframe(periods = 90)"
   ]
  },
  {
   "cell_type": "code",
   "execution_count": 42,
   "metadata": {},
   "outputs": [
    {
     "data": {
      "text/html": [
       "<div>\n",
       "<style scoped>\n",
       "    .dataframe tbody tr th:only-of-type {\n",
       "        vertical-align: middle;\n",
       "    }\n",
       "\n",
       "    .dataframe tbody tr th {\n",
       "        vertical-align: top;\n",
       "    }\n",
       "\n",
       "    .dataframe thead th {\n",
       "        text-align: right;\n",
       "    }\n",
       "</style>\n",
       "<table border=\"1\" class=\"dataframe\">\n",
       "  <thead>\n",
       "    <tr style=\"text-align: right;\">\n",
       "      <th></th>\n",
       "      <th>ds</th>\n",
       "    </tr>\n",
       "  </thead>\n",
       "  <tbody>\n",
       "    <tr>\n",
       "      <th>0</th>\n",
       "      <td>2017-11-29</td>\n",
       "    </tr>\n",
       "    <tr>\n",
       "      <th>1</th>\n",
       "      <td>2017-11-30</td>\n",
       "    </tr>\n",
       "    <tr>\n",
       "      <th>2</th>\n",
       "      <td>2017-12-01</td>\n",
       "    </tr>\n",
       "    <tr>\n",
       "      <th>3</th>\n",
       "      <td>2017-12-02</td>\n",
       "    </tr>\n",
       "    <tr>\n",
       "      <th>4</th>\n",
       "      <td>2017-12-03</td>\n",
       "    </tr>\n",
       "    <tr>\n",
       "      <th>...</th>\n",
       "      <td>...</td>\n",
       "    </tr>\n",
       "    <tr>\n",
       "      <th>634</th>\n",
       "      <td>2019-08-25</td>\n",
       "    </tr>\n",
       "    <tr>\n",
       "      <th>635</th>\n",
       "      <td>2019-08-26</td>\n",
       "    </tr>\n",
       "    <tr>\n",
       "      <th>636</th>\n",
       "      <td>2019-08-27</td>\n",
       "    </tr>\n",
       "    <tr>\n",
       "      <th>637</th>\n",
       "      <td>2019-08-28</td>\n",
       "    </tr>\n",
       "    <tr>\n",
       "      <th>638</th>\n",
       "      <td>2019-08-29</td>\n",
       "    </tr>\n",
       "  </tbody>\n",
       "</table>\n",
       "<p>639 rows × 1 columns</p>\n",
       "</div>"
      ],
      "text/plain": [
       "            ds\n",
       "0   2017-11-29\n",
       "1   2017-11-30\n",
       "2   2017-12-01\n",
       "3   2017-12-02\n",
       "4   2017-12-03\n",
       "..         ...\n",
       "634 2019-08-25\n",
       "635 2019-08-26\n",
       "636 2019-08-27\n",
       "637 2019-08-28\n",
       "638 2019-08-29\n",
       "\n",
       "[639 rows x 1 columns]"
      ]
     },
     "execution_count": 42,
     "metadata": {},
     "output_type": "execute_result"
    }
   ],
   "source": [
    "future"
   ]
  },
  {
   "cell_type": "code",
   "execution_count": 48,
   "metadata": {},
   "outputs": [
    {
     "data": {
      "text/html": [
       "<div>\n",
       "<style scoped>\n",
       "    .dataframe tbody tr th:only-of-type {\n",
       "        vertical-align: middle;\n",
       "    }\n",
       "\n",
       "    .dataframe tbody tr th {\n",
       "        vertical-align: top;\n",
       "    }\n",
       "\n",
       "    .dataframe thead th {\n",
       "        text-align: right;\n",
       "    }\n",
       "</style>\n",
       "<table border=\"1\" class=\"dataframe\">\n",
       "  <thead>\n",
       "    <tr style=\"text-align: right;\">\n",
       "      <th></th>\n",
       "      <th>ds</th>\n",
       "      <th>trend</th>\n",
       "      <th>yhat_lower</th>\n",
       "      <th>yhat_upper</th>\n",
       "      <th>trend_lower</th>\n",
       "      <th>trend_upper</th>\n",
       "      <th>additive_terms</th>\n",
       "      <th>additive_terms_lower</th>\n",
       "      <th>additive_terms_upper</th>\n",
       "      <th>weekly</th>\n",
       "      <th>weekly_lower</th>\n",
       "      <th>weekly_upper</th>\n",
       "      <th>multiplicative_terms</th>\n",
       "      <th>multiplicative_terms_lower</th>\n",
       "      <th>multiplicative_terms_upper</th>\n",
       "      <th>yhat</th>\n",
       "    </tr>\n",
       "  </thead>\n",
       "  <tbody>\n",
       "    <tr>\n",
       "      <th>634</th>\n",
       "      <td>2019-08-25</td>\n",
       "      <td>219755.59</td>\n",
       "      <td>-578955.41</td>\n",
       "      <td>1046463.88</td>\n",
       "      <td>-596174.66</td>\n",
       "      <td>1049987.84</td>\n",
       "      <td>-1369.40</td>\n",
       "      <td>-1369.40</td>\n",
       "      <td>-1369.40</td>\n",
       "      <td>-1369.40</td>\n",
       "      <td>-1369.40</td>\n",
       "      <td>-1369.40</td>\n",
       "      <td>0.0</td>\n",
       "      <td>0.0</td>\n",
       "      <td>0.0</td>\n",
       "      <td>218386.19</td>\n",
       "    </tr>\n",
       "    <tr>\n",
       "      <th>635</th>\n",
       "      <td>2019-08-26</td>\n",
       "      <td>220124.30</td>\n",
       "      <td>-595739.74</td>\n",
       "      <td>1070493.74</td>\n",
       "      <td>-608193.66</td>\n",
       "      <td>1071539.09</td>\n",
       "      <td>5593.60</td>\n",
       "      <td>5593.60</td>\n",
       "      <td>5593.60</td>\n",
       "      <td>5593.60</td>\n",
       "      <td>5593.60</td>\n",
       "      <td>5593.60</td>\n",
       "      <td>0.0</td>\n",
       "      <td>0.0</td>\n",
       "      <td>0.0</td>\n",
       "      <td>225717.90</td>\n",
       "    </tr>\n",
       "    <tr>\n",
       "      <th>636</th>\n",
       "      <td>2019-08-27</td>\n",
       "      <td>220493.01</td>\n",
       "      <td>-626531.10</td>\n",
       "      <td>1096110.01</td>\n",
       "      <td>-621655.44</td>\n",
       "      <td>1092152.98</td>\n",
       "      <td>4134.93</td>\n",
       "      <td>4134.93</td>\n",
       "      <td>4134.93</td>\n",
       "      <td>4134.93</td>\n",
       "      <td>4134.93</td>\n",
       "      <td>4134.93</td>\n",
       "      <td>0.0</td>\n",
       "      <td>0.0</td>\n",
       "      <td>0.0</td>\n",
       "      <td>224627.94</td>\n",
       "    </tr>\n",
       "    <tr>\n",
       "      <th>637</th>\n",
       "      <td>2019-08-28</td>\n",
       "      <td>220861.72</td>\n",
       "      <td>-640138.85</td>\n",
       "      <td>1104918.69</td>\n",
       "      <td>-634456.73</td>\n",
       "      <td>1110573.80</td>\n",
       "      <td>2176.09</td>\n",
       "      <td>2176.09</td>\n",
       "      <td>2176.09</td>\n",
       "      <td>2176.09</td>\n",
       "      <td>2176.09</td>\n",
       "      <td>2176.09</td>\n",
       "      <td>0.0</td>\n",
       "      <td>0.0</td>\n",
       "      <td>0.0</td>\n",
       "      <td>223037.80</td>\n",
       "    </tr>\n",
       "    <tr>\n",
       "      <th>638</th>\n",
       "      <td>2019-08-29</td>\n",
       "      <td>221230.43</td>\n",
       "      <td>-643457.53</td>\n",
       "      <td>1125198.27</td>\n",
       "      <td>-644193.16</td>\n",
       "      <td>1124498.09</td>\n",
       "      <td>3512.50</td>\n",
       "      <td>3512.50</td>\n",
       "      <td>3512.50</td>\n",
       "      <td>3512.50</td>\n",
       "      <td>3512.50</td>\n",
       "      <td>3512.50</td>\n",
       "      <td>0.0</td>\n",
       "      <td>0.0</td>\n",
       "      <td>0.0</td>\n",
       "      <td>224742.92</td>\n",
       "    </tr>\n",
       "  </tbody>\n",
       "</table>\n",
       "</div>"
      ],
      "text/plain": [
       "            ds      trend  yhat_lower  yhat_upper  trend_lower  trend_upper  \\\n",
       "634 2019-08-25  219755.59  -578955.41  1046463.88   -596174.66   1049987.84   \n",
       "635 2019-08-26  220124.30  -595739.74  1070493.74   -608193.66   1071539.09   \n",
       "636 2019-08-27  220493.01  -626531.10  1096110.01   -621655.44   1092152.98   \n",
       "637 2019-08-28  220861.72  -640138.85  1104918.69   -634456.73   1110573.80   \n",
       "638 2019-08-29  221230.43  -643457.53  1125198.27   -644193.16   1124498.09   \n",
       "\n",
       "     additive_terms  additive_terms_lower  additive_terms_upper   weekly  \\\n",
       "634        -1369.40              -1369.40              -1369.40 -1369.40   \n",
       "635         5593.60               5593.60               5593.60  5593.60   \n",
       "636         4134.93               4134.93               4134.93  4134.93   \n",
       "637         2176.09               2176.09               2176.09  2176.09   \n",
       "638         3512.50               3512.50               3512.50  3512.50   \n",
       "\n",
       "     weekly_lower  weekly_upper  multiplicative_terms  \\\n",
       "634      -1369.40      -1369.40                   0.0   \n",
       "635       5593.60       5593.60                   0.0   \n",
       "636       4134.93       4134.93                   0.0   \n",
       "637       2176.09       2176.09                   0.0   \n",
       "638       3512.50       3512.50                   0.0   \n",
       "\n",
       "     multiplicative_terms_lower  multiplicative_terms_upper       yhat  \n",
       "634                         0.0                         0.0  218386.19  \n",
       "635                         0.0                         0.0  225717.90  \n",
       "636                         0.0                         0.0  224627.94  \n",
       "637                         0.0                         0.0  223037.80  \n",
       "638                         0.0                         0.0  224742.92  "
      ]
     },
     "execution_count": 48,
     "metadata": {},
     "output_type": "execute_result"
    }
   ],
   "source": [
    "forecast = model1.predict(future)\n",
    "forecast = forecast.round(2)\n",
    "forecast.tail()"
   ]
  },
  {
   "cell_type": "code",
   "execution_count": 49,
   "metadata": {},
   "outputs": [
    {
     "data": {
      "text/html": [
       "<div>\n",
       "<style scoped>\n",
       "    .dataframe tbody tr th:only-of-type {\n",
       "        vertical-align: middle;\n",
       "    }\n",
       "\n",
       "    .dataframe tbody tr th {\n",
       "        vertical-align: top;\n",
       "    }\n",
       "\n",
       "    .dataframe thead th {\n",
       "        text-align: right;\n",
       "    }\n",
       "</style>\n",
       "<table border=\"1\" class=\"dataframe\">\n",
       "  <thead>\n",
       "    <tr style=\"text-align: right;\">\n",
       "      <th></th>\n",
       "      <th>ds</th>\n",
       "      <th>yhat</th>\n",
       "      <th>yhat_lower</th>\n",
       "      <th>yhat_upper</th>\n",
       "    </tr>\n",
       "  </thead>\n",
       "  <tbody>\n",
       "    <tr>\n",
       "      <th>634</th>\n",
       "      <td>2019-08-25</td>\n",
       "      <td>218386.19</td>\n",
       "      <td>-578955.41</td>\n",
       "      <td>1046463.88</td>\n",
       "    </tr>\n",
       "    <tr>\n",
       "      <th>635</th>\n",
       "      <td>2019-08-26</td>\n",
       "      <td>225717.90</td>\n",
       "      <td>-595739.74</td>\n",
       "      <td>1070493.74</td>\n",
       "    </tr>\n",
       "    <tr>\n",
       "      <th>636</th>\n",
       "      <td>2019-08-27</td>\n",
       "      <td>224627.94</td>\n",
       "      <td>-626531.10</td>\n",
       "      <td>1096110.01</td>\n",
       "    </tr>\n",
       "    <tr>\n",
       "      <th>637</th>\n",
       "      <td>2019-08-28</td>\n",
       "      <td>223037.80</td>\n",
       "      <td>-640138.85</td>\n",
       "      <td>1104918.69</td>\n",
       "    </tr>\n",
       "    <tr>\n",
       "      <th>638</th>\n",
       "      <td>2019-08-29</td>\n",
       "      <td>224742.92</td>\n",
       "      <td>-643457.53</td>\n",
       "      <td>1125198.27</td>\n",
       "    </tr>\n",
       "  </tbody>\n",
       "</table>\n",
       "</div>"
      ],
      "text/plain": [
       "            ds       yhat  yhat_lower  yhat_upper\n",
       "634 2019-08-25  218386.19  -578955.41  1046463.88\n",
       "635 2019-08-26  225717.90  -595739.74  1070493.74\n",
       "636 2019-08-27  224627.94  -626531.10  1096110.01\n",
       "637 2019-08-28  223037.80  -640138.85  1104918.69\n",
       "638 2019-08-29  224742.92  -643457.53  1125198.27"
      ]
     },
     "execution_count": 49,
     "metadata": {},
     "output_type": "execute_result"
    }
   ],
   "source": [
    "forecast[['ds', 'yhat', 'yhat_lower', 'yhat_upper']].tail()"
   ]
  },
  {
   "cell_type": "code",
   "execution_count": 50,
   "metadata": {},
   "outputs": [
    {
     "data": {
      "text/html": [
       "<div>\n",
       "<style scoped>\n",
       "    .dataframe tbody tr th:only-of-type {\n",
       "        vertical-align: middle;\n",
       "    }\n",
       "\n",
       "    .dataframe tbody tr th {\n",
       "        vertical-align: top;\n",
       "    }\n",
       "\n",
       "    .dataframe thead th {\n",
       "        text-align: right;\n",
       "    }\n",
       "</style>\n",
       "<table border=\"1\" class=\"dataframe\">\n",
       "  <thead>\n",
       "    <tr style=\"text-align: right;\">\n",
       "      <th></th>\n",
       "      <th>ds</th>\n",
       "      <th>yhat</th>\n",
       "      <th>yhat_lower</th>\n",
       "      <th>yhat_upper</th>\n",
       "    </tr>\n",
       "  </thead>\n",
       "  <tbody>\n",
       "    <tr>\n",
       "      <th>0</th>\n",
       "      <td>2017-11-29</td>\n",
       "      <td>145032.06</td>\n",
       "      <td>115825.41</td>\n",
       "      <td>175588.87</td>\n",
       "    </tr>\n",
       "    <tr>\n",
       "      <th>1</th>\n",
       "      <td>2017-11-30</td>\n",
       "      <td>144627.87</td>\n",
       "      <td>113773.55</td>\n",
       "      <td>173435.76</td>\n",
       "    </tr>\n",
       "    <tr>\n",
       "      <th>2</th>\n",
       "      <td>2017-12-01</td>\n",
       "      <td>134293.99</td>\n",
       "      <td>103271.63</td>\n",
       "      <td>165903.54</td>\n",
       "    </tr>\n",
       "    <tr>\n",
       "      <th>3</th>\n",
       "      <td>2017-12-02</td>\n",
       "      <td>128667.24</td>\n",
       "      <td>99767.77</td>\n",
       "      <td>157687.71</td>\n",
       "    </tr>\n",
       "    <tr>\n",
       "      <th>4</th>\n",
       "      <td>2017-12-03</td>\n",
       "      <td>134524.17</td>\n",
       "      <td>103606.94</td>\n",
       "      <td>163550.16</td>\n",
       "    </tr>\n",
       "  </tbody>\n",
       "</table>\n",
       "</div>"
      ],
      "text/plain": [
       "          ds       yhat  yhat_lower  yhat_upper\n",
       "0 2017-11-29  145032.06   115825.41   175588.87\n",
       "1 2017-11-30  144627.87   113773.55   173435.76\n",
       "2 2017-12-01  134293.99   103271.63   165903.54\n",
       "3 2017-12-02  128667.24    99767.77   157687.71\n",
       "4 2017-12-03  134524.17   103606.94   163550.16"
      ]
     },
     "execution_count": 50,
     "metadata": {},
     "output_type": "execute_result"
    }
   ],
   "source": [
    "forecast[['ds', 'yhat', 'yhat_lower', 'yhat_upper']].head()"
   ]
  },
  {
   "cell_type": "code",
   "execution_count": 51,
   "metadata": {},
   "outputs": [
    {
     "data": {
      "image/png": "[encoded data removed]",
      "text/plain": [
       "<Figure size 720x432 with 1 Axes>"
      ]
     },
     "metadata": {},
     "output_type": "display_data"
    }
   ],
   "source": [
    "fig1 = model1.plot(forecast)"
   ]
  },
  {
   "cell_type": "code",
   "execution_count": 52,
   "metadata": {},
   "outputs": [
    {
     "data": {
      "image/png": "[encoded data removed]",
      "text/plain": [
       "<Figure size 648x432 with 2 Axes>"
      ]
     },
     "metadata": {},
     "output_type": "display_data"
    }
   ],
   "source": [
    "fig2 = model1.plot_components(forecast)"
   ]
  },
  {
   "cell_type": "code",
   "execution_count": 54,
   "metadata": {},
   "outputs": [],
   "source": [
    "metric_df = forecast.set_index('ds')[['yhat']].join(df_pro.set_index('ds').y).reset_index()"
   ]
  },
  {
   "cell_type": "code",
   "execution_count": 55,
   "metadata": {},
   "outputs": [
    {
     "data": {
      "text/html": [
       "<div>\n",
       "<style scoped>\n",
       "    .dataframe tbody tr th:only-of-type {\n",
       "        vertical-align: middle;\n",
       "    }\n",
       "\n",
       "    .dataframe tbody tr th {\n",
       "        vertical-align: top;\n",
       "    }\n",
       "\n",
       "    .dataframe thead th {\n",
       "        text-align: right;\n",
       "    }\n",
       "</style>\n",
       "<table border=\"1\" class=\"dataframe\">\n",
       "  <thead>\n",
       "    <tr style=\"text-align: right;\">\n",
       "      <th></th>\n",
       "      <th>ds</th>\n",
       "      <th>yhat</th>\n",
       "      <th>y</th>\n",
       "    </tr>\n",
       "  </thead>\n",
       "  <tbody>\n",
       "    <tr>\n",
       "      <th>634</th>\n",
       "      <td>2019-08-25</td>\n",
       "      <td>218386.19</td>\n",
       "      <td>NaN</td>\n",
       "    </tr>\n",
       "    <tr>\n",
       "      <th>635</th>\n",
       "      <td>2019-08-26</td>\n",
       "      <td>225717.90</td>\n",
       "      <td>NaN</td>\n",
       "    </tr>\n",
       "    <tr>\n",
       "      <th>636</th>\n",
       "      <td>2019-08-27</td>\n",
       "      <td>224627.94</td>\n",
       "      <td>NaN</td>\n",
       "    </tr>\n",
       "    <tr>\n",
       "      <th>637</th>\n",
       "      <td>2019-08-28</td>\n",
       "      <td>223037.80</td>\n",
       "      <td>NaN</td>\n",
       "    </tr>\n",
       "    <tr>\n",
       "      <th>638</th>\n",
       "      <td>2019-08-29</td>\n",
       "      <td>224742.92</td>\n",
       "      <td>NaN</td>\n",
       "    </tr>\n",
       "  </tbody>\n",
       "</table>\n",
       "</div>"
      ],
      "text/plain": [
       "            ds       yhat   y\n",
       "634 2019-08-25  218386.19 NaN\n",
       "635 2019-08-26  225717.90 NaN\n",
       "636 2019-08-27  224627.94 NaN\n",
       "637 2019-08-28  223037.80 NaN\n",
       "638 2019-08-29  224742.92 NaN"
      ]
     },
     "execution_count": 55,
     "metadata": {},
     "output_type": "execute_result"
    }
   ],
   "source": [
    "# y values not populated here because it's forecasting at this point\n",
    "metric_df.tail()"
   ]
  },
  {
   "cell_type": "code",
   "execution_count": 57,
   "metadata": {},
   "outputs": [
    {
     "data": {
      "text/html": [
       "<div>\n",
       "<style scoped>\n",
       "    .dataframe tbody tr th:only-of-type {\n",
       "        vertical-align: middle;\n",
       "    }\n",
       "\n",
       "    .dataframe tbody tr th {\n",
       "        vertical-align: top;\n",
       "    }\n",
       "\n",
       "    .dataframe thead th {\n",
       "        text-align: right;\n",
       "    }\n",
       "</style>\n",
       "<table border=\"1\" class=\"dataframe\">\n",
       "  <thead>\n",
       "    <tr style=\"text-align: right;\">\n",
       "      <th></th>\n",
       "      <th>ds</th>\n",
       "      <th>yhat</th>\n",
       "      <th>y</th>\n",
       "    </tr>\n",
       "  </thead>\n",
       "  <tbody>\n",
       "    <tr>\n",
       "      <th>0</th>\n",
       "      <td>2017-11-29</td>\n",
       "      <td>145032.06</td>\n",
       "      <td>183857.22</td>\n",
       "    </tr>\n",
       "    <tr>\n",
       "      <th>1</th>\n",
       "      <td>2017-11-30</td>\n",
       "      <td>144627.87</td>\n",
       "      <td>170445.26</td>\n",
       "    </tr>\n",
       "    <tr>\n",
       "      <th>2</th>\n",
       "      <td>2017-12-01</td>\n",
       "      <td>134293.99</td>\n",
       "      <td>157155.01</td>\n",
       "    </tr>\n",
       "    <tr>\n",
       "      <th>3</th>\n",
       "      <td>2017-12-02</td>\n",
       "      <td>128667.24</td>\n",
       "      <td>147467.73</td>\n",
       "    </tr>\n",
       "    <tr>\n",
       "      <th>4</th>\n",
       "      <td>2017-12-03</td>\n",
       "      <td>134524.17</td>\n",
       "      <td>147991.02</td>\n",
       "    </tr>\n",
       "  </tbody>\n",
       "</table>\n",
       "</div>"
      ],
      "text/plain": [
       "          ds       yhat          y\n",
       "0 2017-11-29  145032.06  183857.22\n",
       "1 2017-11-30  144627.87  170445.26\n",
       "2 2017-12-01  134293.99  157155.01\n",
       "3 2017-12-02  128667.24  147467.73\n",
       "4 2017-12-03  134524.17  147991.02"
      ]
     },
     "execution_count": 57,
     "metadata": {},
     "output_type": "execute_result"
    }
   ],
   "source": [
    "metric_df.head()"
   ]
  },
  {
   "cell_type": "code",
   "execution_count": 58,
   "metadata": {},
   "outputs": [],
   "source": [
    "metric_df.dropna(inplace=True)"
   ]
  },
  {
   "cell_type": "code",
   "execution_count": 59,
   "metadata": {},
   "outputs": [
    {
     "data": {
      "text/html": [
       "<div>\n",
       "<style scoped>\n",
       "    .dataframe tbody tr th:only-of-type {\n",
       "        vertical-align: middle;\n",
       "    }\n",
       "\n",
       "    .dataframe tbody tr th {\n",
       "        vertical-align: top;\n",
       "    }\n",
       "\n",
       "    .dataframe thead th {\n",
       "        text-align: right;\n",
       "    }\n",
       "</style>\n",
       "<table border=\"1\" class=\"dataframe\">\n",
       "  <thead>\n",
       "    <tr style=\"text-align: right;\">\n",
       "      <th></th>\n",
       "      <th>ds</th>\n",
       "      <th>yhat</th>\n",
       "      <th>y</th>\n",
       "    </tr>\n",
       "  </thead>\n",
       "  <tbody>\n",
       "    <tr>\n",
       "      <th>544</th>\n",
       "      <td>2019-05-27</td>\n",
       "      <td>192165.40</td>\n",
       "      <td>195395.17</td>\n",
       "    </tr>\n",
       "    <tr>\n",
       "      <th>545</th>\n",
       "      <td>2019-05-28</td>\n",
       "      <td>191075.43</td>\n",
       "      <td>200298.34</td>\n",
       "    </tr>\n",
       "    <tr>\n",
       "      <th>546</th>\n",
       "      <td>2019-05-29</td>\n",
       "      <td>189485.29</td>\n",
       "      <td>200717.34</td>\n",
       "    </tr>\n",
       "    <tr>\n",
       "      <th>547</th>\n",
       "      <td>2019-05-30</td>\n",
       "      <td>191190.41</td>\n",
       "      <td>198456.74</td>\n",
       "    </tr>\n",
       "    <tr>\n",
       "      <th>548</th>\n",
       "      <td>2019-05-31</td>\n",
       "      <td>182965.84</td>\n",
       "      <td>191391.68</td>\n",
       "    </tr>\n",
       "  </tbody>\n",
       "</table>\n",
       "</div>"
      ],
      "text/plain": [
       "            ds       yhat          y\n",
       "544 2019-05-27  192165.40  195395.17\n",
       "545 2019-05-28  191075.43  200298.34\n",
       "546 2019-05-29  189485.29  200717.34\n",
       "547 2019-05-30  191190.41  198456.74\n",
       "548 2019-05-31  182965.84  191391.68"
      ]
     },
     "execution_count": 59,
     "metadata": {},
     "output_type": "execute_result"
    }
   ],
   "source": [
    "# now only have df with values that have true y values\n",
    "metric_df.tail()"
   ]
  },
  {
   "cell_type": "code",
   "execution_count": 60,
   "metadata": {},
   "outputs": [
    {
     "data": {
      "text/plain": [
       "0.932007976774746"
      ]
     },
     "execution_count": 60,
     "metadata": {},
     "output_type": "execute_result"
    }
   ],
   "source": [
    "r2_score(metric_df.y, metric_df.yhat)"
   ]
  },
  {
   "cell_type": "code",
   "execution_count": 61,
   "metadata": {},
   "outputs": [
    {
     "data": {
      "text/plain": [
       "16681.447905282334"
      ]
     },
     "execution_count": 61,
     "metadata": {},
     "output_type": "execute_result"
    }
   ],
   "source": [
    "mean_absolute_error(metric_df.y, metric_df.yhat)"
   ]
  },
  {
   "cell_type": "code",
   "execution_count": 62,
   "metadata": {},
   "outputs": [
    {
     "data": {
      "text/plain": [
       "532833842.0072344"
      ]
     },
     "execution_count": 62,
     "metadata": {},
     "output_type": "execute_result"
    }
   ],
   "source": [
    "mean_squared_error(metric_df.y, metric_df.yhat)"
   ]
  },
  {
   "cell_type": "markdown",
   "metadata": {},
   "source": [
    "So, at this point we have tested 3 models and the consolidated view of the evalation metrics in question are shown below:"
   ]
  },
  {
   "cell_type": "raw",
   "metadata": {},
   "source": [
    "                                MAE        MSE        R2\n",
    "Random Forest               |  12474  | 292171520 |  0.953  |\n",
    "\n",
    "Gradient Boosted Regressor  |  13969  | 420685779 |  0.933  |\n",
    "\n",
    "Prophet                     |  16681  | 532833842 |  0.932  |"
   ]
  },
  {
   "cell_type": "markdown",
   "metadata": {},
   "source": [
    "From this viewpoint it looks like the Random Forest is the best performing model. This is of course only a training process that was run on everything, not each of the individual countries so performance could change country to country."
   ]
  },
  {
   "cell_type": "markdown",
   "metadata": {},
   "source": [
    "### 3. Re-train your model on all of the data using the selected approach and prepare it for deployment. "
   ]
  },
  {
   "cell_type": "markdown",
   "metadata": {},
   "source": [
    "The model.py file in my github repo retrains the Random Forest model on all the data prior to saving it"
   ]
  },
  {
   "cell_type": "markdown",
   "metadata": {},
   "source": [
    "Everything after this is playing around with the cross_validation functionality that the Prohpet model has"
   ]
  },
  {
   "cell_type": "code",
   "execution_count": 28,
   "metadata": {},
   "outputs": [
    {
     "name": "stderr",
     "output_type": "stream",
     "text": [
      "INFO:fbprophet:Making 3 forecasts with cutoffs between 2019-04-17 00:00:00 and 2019-05-01 00:00:00\n"
     ]
    },
    {
     "data": {
      "application/vnd.jupyter.widget-view+json": {
       "model_id": "7ba344edaad74a68b8ad445b2c6ddd44",
       "version_major": 2,
       "version_minor": 0
      },
      "text/plain": [
       "HBox(children=(FloatProgress(value=0.0, max=3.0), HTML(value='')))"
      ]
     },
     "metadata": {},
     "output_type": "display_data"
    },
    {
     "name": "stdout",
     "output_type": "stream",
     "text": [
      "\n"
     ]
    },
    {
     "data": {
      "text/html": [
       "<div>\n",
       "<style scoped>\n",
       "    .dataframe tbody tr th:only-of-type {\n",
       "        vertical-align: middle;\n",
       "    }\n",
       "\n",
       "    .dataframe tbody tr th {\n",
       "        vertical-align: top;\n",
       "    }\n",
       "\n",
       "    .dataframe thead th {\n",
       "        text-align: right;\n",
       "    }\n",
       "</style>\n",
       "<table border=\"1\" class=\"dataframe\">\n",
       "  <thead>\n",
       "    <tr style=\"text-align: right;\">\n",
       "      <th></th>\n",
       "      <th>ds</th>\n",
       "      <th>yhat</th>\n",
       "      <th>yhat_lower</th>\n",
       "      <th>yhat_upper</th>\n",
       "      <th>y</th>\n",
       "      <th>cutoff</th>\n",
       "    </tr>\n",
       "  </thead>\n",
       "  <tbody>\n",
       "    <tr>\n",
       "      <th>0</th>\n",
       "      <td>2019-04-18</td>\n",
       "      <td>165218.416536</td>\n",
       "      <td>134032.238613</td>\n",
       "      <td>198179.928860</td>\n",
       "      <td>172397.87</td>\n",
       "      <td>2019-04-17</td>\n",
       "    </tr>\n",
       "    <tr>\n",
       "      <th>1</th>\n",
       "      <td>2019-04-19</td>\n",
       "      <td>156583.335949</td>\n",
       "      <td>126701.786177</td>\n",
       "      <td>187982.304468</td>\n",
       "      <td>162855.45</td>\n",
       "      <td>2019-04-17</td>\n",
       "    </tr>\n",
       "    <tr>\n",
       "      <th>2</th>\n",
       "      <td>2019-04-20</td>\n",
       "      <td>152540.539811</td>\n",
       "      <td>120672.151814</td>\n",
       "      <td>183915.007418</td>\n",
       "      <td>167452.17</td>\n",
       "      <td>2019-04-17</td>\n",
       "    </tr>\n",
       "    <tr>\n",
       "      <th>3</th>\n",
       "      <td>2019-04-21</td>\n",
       "      <td>160283.959109</td>\n",
       "      <td>129044.182222</td>\n",
       "      <td>195010.703945</td>\n",
       "      <td>180061.09</td>\n",
       "      <td>2019-04-17</td>\n",
       "    </tr>\n",
       "    <tr>\n",
       "      <th>4</th>\n",
       "      <td>2019-04-22</td>\n",
       "      <td>167757.531952</td>\n",
       "      <td>135736.245159</td>\n",
       "      <td>198184.247742</td>\n",
       "      <td>187352.23</td>\n",
       "      <td>2019-04-17</td>\n",
       "    </tr>\n",
       "  </tbody>\n",
       "</table>\n",
       "</div>"
      ],
      "text/plain": [
       "          ds           yhat     yhat_lower     yhat_upper          y  \\\n",
       "0 2019-04-18  165218.416536  134032.238613  198179.928860  172397.87   \n",
       "1 2019-04-19  156583.335949  126701.786177  187982.304468  162855.45   \n",
       "2 2019-04-20  152540.539811  120672.151814  183915.007418  167452.17   \n",
       "3 2019-04-21  160283.959109  129044.182222  195010.703945  180061.09   \n",
       "4 2019-04-22  167757.531952  135736.245159  198184.247742  187352.23   \n",
       "\n",
       "      cutoff  \n",
       "0 2019-04-17  \n",
       "1 2019-04-17  \n",
       "2 2019-04-17  \n",
       "3 2019-04-17  \n",
       "4 2019-04-17  "
      ]
     },
     "execution_count": 28,
     "metadata": {},
     "output_type": "execute_result"
    }
   ],
   "source": [
    "from fbprophet.diagnostics import cross_validation\n",
    "\n",
    "df_cv = cross_validation(model1, initial='500 days', period = '7 days', horizon = '30 days')\n",
    "df_cv.head()"
   ]
  },
  {
   "cell_type": "code",
   "execution_count": 29,
   "metadata": {},
   "outputs": [
    {
     "data": {
      "text/html": [
       "<div>\n",
       "<style scoped>\n",
       "    .dataframe tbody tr th:only-of-type {\n",
       "        vertical-align: middle;\n",
       "    }\n",
       "\n",
       "    .dataframe tbody tr th {\n",
       "        vertical-align: top;\n",
       "    }\n",
       "\n",
       "    .dataframe thead th {\n",
       "        text-align: right;\n",
       "    }\n",
       "</style>\n",
       "<table border=\"1\" class=\"dataframe\">\n",
       "  <thead>\n",
       "    <tr style=\"text-align: right;\">\n",
       "      <th></th>\n",
       "      <th>ds</th>\n",
       "      <th>yhat</th>\n",
       "      <th>yhat_lower</th>\n",
       "      <th>yhat_upper</th>\n",
       "      <th>y</th>\n",
       "      <th>cutoff</th>\n",
       "    </tr>\n",
       "  </thead>\n",
       "  <tbody>\n",
       "    <tr>\n",
       "      <th>85</th>\n",
       "      <td>2019-05-27</td>\n",
       "      <td>183837.652684</td>\n",
       "      <td>75397.010594</td>\n",
       "      <td>307516.257100</td>\n",
       "      <td>195395.17</td>\n",
       "      <td>2019-05-01</td>\n",
       "    </tr>\n",
       "    <tr>\n",
       "      <th>86</th>\n",
       "      <td>2019-05-28</td>\n",
       "      <td>182950.623318</td>\n",
       "      <td>67793.320810</td>\n",
       "      <td>317995.925167</td>\n",
       "      <td>200298.34</td>\n",
       "      <td>2019-05-01</td>\n",
       "    </tr>\n",
       "    <tr>\n",
       "      <th>87</th>\n",
       "      <td>2019-05-29</td>\n",
       "      <td>181334.554893</td>\n",
       "      <td>56938.356993</td>\n",
       "      <td>318805.569511</td>\n",
       "      <td>200717.34</td>\n",
       "      <td>2019-05-01</td>\n",
       "    </tr>\n",
       "    <tr>\n",
       "      <th>88</th>\n",
       "      <td>2019-05-30</td>\n",
       "      <td>182577.573503</td>\n",
       "      <td>56924.257380</td>\n",
       "      <td>336825.455568</td>\n",
       "      <td>198456.74</td>\n",
       "      <td>2019-05-01</td>\n",
       "    </tr>\n",
       "    <tr>\n",
       "      <th>89</th>\n",
       "      <td>2019-05-31</td>\n",
       "      <td>174379.984623</td>\n",
       "      <td>36615.736169</td>\n",
       "      <td>335695.961600</td>\n",
       "      <td>191391.68</td>\n",
       "      <td>2019-05-01</td>\n",
       "    </tr>\n",
       "  </tbody>\n",
       "</table>\n",
       "</div>"
      ],
      "text/plain": [
       "           ds           yhat    yhat_lower     yhat_upper          y  \\\n",
       "85 2019-05-27  183837.652684  75397.010594  307516.257100  195395.17   \n",
       "86 2019-05-28  182950.623318  67793.320810  317995.925167  200298.34   \n",
       "87 2019-05-29  181334.554893  56938.356993  318805.569511  200717.34   \n",
       "88 2019-05-30  182577.573503  56924.257380  336825.455568  198456.74   \n",
       "89 2019-05-31  174379.984623  36615.736169  335695.961600  191391.68   \n",
       "\n",
       "       cutoff  \n",
       "85 2019-05-01  \n",
       "86 2019-05-01  \n",
       "87 2019-05-01  \n",
       "88 2019-05-01  \n",
       "89 2019-05-01  "
      ]
     },
     "execution_count": 29,
     "metadata": {},
     "output_type": "execute_result"
    }
   ],
   "source": [
    "df_cv.tail()"
   ]
  },
  {
   "cell_type": "code",
   "execution_count": 30,
   "metadata": {},
   "outputs": [
    {
     "data": {
      "text/html": [
       "<div>\n",
       "<style scoped>\n",
       "    .dataframe tbody tr th:only-of-type {\n",
       "        vertical-align: middle;\n",
       "    }\n",
       "\n",
       "    .dataframe tbody tr th {\n",
       "        vertical-align: top;\n",
       "    }\n",
       "\n",
       "    .dataframe thead th {\n",
       "        text-align: right;\n",
       "    }\n",
       "</style>\n",
       "<table border=\"1\" class=\"dataframe\">\n",
       "  <thead>\n",
       "    <tr style=\"text-align: right;\">\n",
       "      <th></th>\n",
       "      <th>horizon</th>\n",
       "      <th>mse</th>\n",
       "      <th>rmse</th>\n",
       "      <th>mae</th>\n",
       "      <th>mape</th>\n",
       "      <th>mdape</th>\n",
       "      <th>coverage</th>\n",
       "    </tr>\n",
       "  </thead>\n",
       "  <tbody>\n",
       "    <tr>\n",
       "      <th>0</th>\n",
       "      <td>3 days</td>\n",
       "      <td>2.227091e+08</td>\n",
       "      <td>14923.440776</td>\n",
       "      <td>11376.382021</td>\n",
       "      <td>0.063293</td>\n",
       "      <td>0.041645</td>\n",
       "      <td>1.0</td>\n",
       "    </tr>\n",
       "    <tr>\n",
       "      <th>1</th>\n",
       "      <td>4 days</td>\n",
       "      <td>2.634361e+08</td>\n",
       "      <td>16230.713615</td>\n",
       "      <td>12827.734237</td>\n",
       "      <td>0.071336</td>\n",
       "      <td>0.089050</td>\n",
       "      <td>1.0</td>\n",
       "    </tr>\n",
       "    <tr>\n",
       "      <th>2</th>\n",
       "      <td>5 days</td>\n",
       "      <td>2.778059e+08</td>\n",
       "      <td>16667.511504</td>\n",
       "      <td>14190.600427</td>\n",
       "      <td>0.077958</td>\n",
       "      <td>0.089050</td>\n",
       "      <td>1.0</td>\n",
       "    </tr>\n",
       "    <tr>\n",
       "      <th>3</th>\n",
       "      <td>6 days</td>\n",
       "      <td>2.977656e+08</td>\n",
       "      <td>17255.885758</td>\n",
       "      <td>14952.030753</td>\n",
       "      <td>0.079886</td>\n",
       "      <td>0.104587</td>\n",
       "      <td>1.0</td>\n",
       "    </tr>\n",
       "    <tr>\n",
       "      <th>4</th>\n",
       "      <td>7 days</td>\n",
       "      <td>2.734881e+08</td>\n",
       "      <td>16537.474756</td>\n",
       "      <td>14262.495784</td>\n",
       "      <td>0.076390</td>\n",
       "      <td>0.087255</td>\n",
       "      <td>1.0</td>\n",
       "    </tr>\n",
       "  </tbody>\n",
       "</table>\n",
       "</div>"
      ],
      "text/plain": [
       "  horizon           mse          rmse           mae      mape     mdape  \\\n",
       "0  3 days  2.227091e+08  14923.440776  11376.382021  0.063293  0.041645   \n",
       "1  4 days  2.634361e+08  16230.713615  12827.734237  0.071336  0.089050   \n",
       "2  5 days  2.778059e+08  16667.511504  14190.600427  0.077958  0.089050   \n",
       "3  6 days  2.977656e+08  17255.885758  14952.030753  0.079886  0.104587   \n",
       "4  7 days  2.734881e+08  16537.474756  14262.495784  0.076390  0.087255   \n",
       "\n",
       "   coverage  \n",
       "0       1.0  \n",
       "1       1.0  \n",
       "2       1.0  \n",
       "3       1.0  \n",
       "4       1.0  "
      ]
     },
     "execution_count": 30,
     "metadata": {},
     "output_type": "execute_result"
    }
   ],
   "source": [
    "from fbprophet.diagnostics import performance_metrics\n",
    "\n",
    "df_p = performance_metrics(df_cv)\n",
    "df_p.head()"
   ]
  },
  {
   "cell_type": "code",
   "execution_count": 31,
   "metadata": {},
   "outputs": [
    {
     "data": {
      "text/html": [
       "<div>\n",
       "<style scoped>\n",
       "    .dataframe tbody tr th:only-of-type {\n",
       "        vertical-align: middle;\n",
       "    }\n",
       "\n",
       "    .dataframe tbody tr th {\n",
       "        vertical-align: top;\n",
       "    }\n",
       "\n",
       "    .dataframe thead th {\n",
       "        text-align: right;\n",
       "    }\n",
       "</style>\n",
       "<table border=\"1\" class=\"dataframe\">\n",
       "  <thead>\n",
       "    <tr style=\"text-align: right;\">\n",
       "      <th></th>\n",
       "      <th>horizon</th>\n",
       "      <th>mse</th>\n",
       "      <th>rmse</th>\n",
       "      <th>mae</th>\n",
       "      <th>mape</th>\n",
       "      <th>mdape</th>\n",
       "      <th>coverage</th>\n",
       "    </tr>\n",
       "  </thead>\n",
       "  <tbody>\n",
       "    <tr>\n",
       "      <th>23</th>\n",
       "      <td>26 days</td>\n",
       "      <td>5.752039e+08</td>\n",
       "      <td>23983.408329</td>\n",
       "      <td>22021.886058</td>\n",
       "      <td>0.113310</td>\n",
       "      <td>0.097438</td>\n",
       "      <td>1.0</td>\n",
       "    </tr>\n",
       "    <tr>\n",
       "      <th>24</th>\n",
       "      <td>27 days</td>\n",
       "      <td>4.477135e+08</td>\n",
       "      <td>21159.241527</td>\n",
       "      <td>19324.190378</td>\n",
       "      <td>0.098367</td>\n",
       "      <td>0.086609</td>\n",
       "      <td>1.0</td>\n",
       "    </tr>\n",
       "    <tr>\n",
       "      <th>25</th>\n",
       "      <td>28 days</td>\n",
       "      <td>3.142724e+08</td>\n",
       "      <td>17727.728554</td>\n",
       "      <td>16266.021669</td>\n",
       "      <td>0.083236</td>\n",
       "      <td>0.085928</td>\n",
       "      <td>1.0</td>\n",
       "    </tr>\n",
       "    <tr>\n",
       "      <th>26</th>\n",
       "      <td>29 days</td>\n",
       "      <td>2.407445e+08</td>\n",
       "      <td>15515.942937</td>\n",
       "      <td>14900.834325</td>\n",
       "      <td>0.077339</td>\n",
       "      <td>0.085928</td>\n",
       "      <td>1.0</td>\n",
       "    </tr>\n",
       "    <tr>\n",
       "      <th>27</th>\n",
       "      <td>30 days</td>\n",
       "      <td>2.637754e+08</td>\n",
       "      <td>16241.163930</td>\n",
       "      <td>15806.563692</td>\n",
       "      <td>0.083118</td>\n",
       "      <td>0.085928</td>\n",
       "      <td>1.0</td>\n",
       "    </tr>\n",
       "  </tbody>\n",
       "</table>\n",
       "</div>"
      ],
      "text/plain": [
       "   horizon           mse          rmse           mae      mape     mdape  \\\n",
       "23 26 days  5.752039e+08  23983.408329  22021.886058  0.113310  0.097438   \n",
       "24 27 days  4.477135e+08  21159.241527  19324.190378  0.098367  0.086609   \n",
       "25 28 days  3.142724e+08  17727.728554  16266.021669  0.083236  0.085928   \n",
       "26 29 days  2.407445e+08  15515.942937  14900.834325  0.077339  0.085928   \n",
       "27 30 days  2.637754e+08  16241.163930  15806.563692  0.083118  0.085928   \n",
       "\n",
       "    coverage  \n",
       "23       1.0  \n",
       "24       1.0  \n",
       "25       1.0  \n",
       "26       1.0  \n",
       "27       1.0  "
      ]
     },
     "execution_count": 31,
     "metadata": {},
     "output_type": "execute_result"
    }
   ],
   "source": [
    "df_p.tail()"
   ]
  },
  {
   "cell_type": "code",
   "execution_count": 32,
   "metadata": {
    "scrolled": true
   },
   "outputs": [
    {
     "data": {
      "image/png": "[encoded data removed]",
      "text/plain": [
       "<Figure size 720x432 with 1 Axes>"
      ]
     },
     "metadata": {},
     "output_type": "display_data"
    }
   ],
   "source": [
    "from fbprophet.plot import plot_cross_validation_metric\n",
    "\n",
    "fig = plot_cross_validation_metric(df_cv, metric='mae', rolling_window=0.25)"
   ]
  }
 ],
 "metadata": {
  "kernelspec": {
   "display_name": "Python 3",
   "language": "python",
   "name": "python3"
  },
  "language_info": {
   "codemirror_mode": {
    "name": "ipython",
    "version": 3
   },
   "file_extension": ".py",
   "mimetype": "text/x-python",
   "name": "python",
   "nbconvert_exporter": "python",
   "pygments_lexer": "ipython3",
   "version": "3.6.10"
  }
 },
 "nbformat": 4,
 "nbformat_minor": 4
}
